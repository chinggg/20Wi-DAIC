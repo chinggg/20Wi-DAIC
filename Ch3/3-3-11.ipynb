{
 "cells": [
  {
   "cell_type": "code",
   "execution_count": 1,
   "metadata": {},
   "outputs": [],
   "source": [
    "# 行数据追加\n",
    "import pandas as pd\n",
    "from pandas import Series, DataFrame"
   ]
  },
  {
   "cell_type": "code",
   "execution_count": 3,
   "metadata": {},
   "outputs": [],
   "source": [
    "colName = ['学号','姓名','专业']   # 列索引\n",
    "data1 = [ ['202003101','赵成','软件工程'],\n",
    "          ['202005114','李斌丽','机械制造'],\n",
    "          ['202009111','孙武一','工业设计'] ]\n",
    "stu1 = DataFrame(data1, columns=colName)   # 行索引自动生成\n",
    "data2= [ ['202003103','王芳','软件工程'], \n",
    "         ['202005116','袁一凡','工业设计'] ]\n",
    "stu2 = DataFrame(data2, columns=colName)\n",
    "newstu = pd.concat([stu1,stu2], axis=0)  # axis=0,表示按行进行数据追加"
   ]
  },
  {
   "cell_type": "code",
   "execution_count": null,
   "metadata": {},
   "outputs": [],
   "source": [
    "newstu"
   ]
  }
 ],
 "metadata": {
  "kernelspec": {
   "display_name": "Python 3",
   "language": "python",
   "name": "python3"
  },
  "language_info": {
   "codemirror_mode": {
    "name": "ipython",
    "version": 3
   },
   "file_extension": ".py",
   "mimetype": "text/x-python",
   "name": "python",
   "nbconvert_exporter": "python",
   "pygments_lexer": "ipython3",
   "version": "3.9.1"
  }
 },
 "nbformat": 4,
 "nbformat_minor": 4
}
