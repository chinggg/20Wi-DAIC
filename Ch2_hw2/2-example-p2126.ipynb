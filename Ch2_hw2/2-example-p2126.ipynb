{
 "cells": [
  {
   "cell_type": "code",
   "execution_count": 1,
   "metadata": {},
   "outputs": [],
   "source": [
    "# 教材P21-26\n",
    "import numpy as np\n",
    "scores=np.array([[70,85,77,90,82,84,89],\n",
    "                 [60,64,80,75,80,92,90],\n",
    "                 [90,93,88,87,86,90,91],\n",
    "                 [80,82,91,88,83,86,80],\n",
    "                 [88,72,78,90,91,73,80]])\n",
    "names=np.array(['王微','肖良英','方绮雯','刘旭阳','钱易铭'])\n",
    "subjects=np.array(['Math','English','Python','Chinese','Art','Database','Physics'])"
   ]
  },
  {
   "cell_type": "markdown",
   "metadata": {},
   "source": [
    "## 2.2.1基本算术运算 "
   ]
  },
  {
   "cell_type": "markdown",
   "metadata": {},
   "source": [
    "### 1.二维数组与标量运算"
   ]
  },
  {
   "cell_type": "code",
   "execution_count": 2,
   "metadata": {},
   "outputs": [
    {
     "data": {
      "text/plain": [
       "array([[75, 90, 82, 95, 87, 89, 94],\n",
       "       [65, 69, 85, 80, 85, 97, 95],\n",
       "       [95, 98, 93, 92, 91, 95, 96],\n",
       "       [85, 87, 96, 93, 88, 91, 85],\n",
       "       [93, 77, 83, 95, 96, 78, 85]])"
      ]
     },
     "execution_count": 2,
     "metadata": {},
     "output_type": "execute_result"
    }
   ],
   "source": [
    "scores+5"
   ]
  },
  {
   "cell_type": "code",
   "execution_count": 3,
   "metadata": {},
   "outputs": [
    {
     "data": {
      "text/plain": [
       "array([[5., 5., 5., 5., 5., 5., 5.],\n",
       "       [5., 5., 5., 5., 5., 5., 5.],\n",
       "       [5., 5., 5., 5., 5., 5., 5.],\n",
       "       [5., 5., 5., 5., 5., 5., 5.],\n",
       "       [5., 5., 5., 5., 5., 5., 5.]])"
      ]
     },
     "execution_count": 3,
     "metadata": {},
     "output_type": "execute_result"
    }
   ],
   "source": [
    "a=np.ones((5,7)) * 5\n",
    "a"
   ]
  },
  {
   "cell_type": "code",
   "execution_count": 4,
   "metadata": {},
   "outputs": [
    {
     "data": {
      "text/plain": [
       "array([[75., 90., 82., 95., 87., 89., 94.],\n",
       "       [65., 69., 85., 80., 85., 97., 95.],\n",
       "       [95., 98., 93., 92., 91., 95., 96.],\n",
       "       [85., 87., 96., 93., 88., 91., 85.],\n",
       "       [93., 77., 83., 95., 96., 78., 85.]])"
      ]
     },
     "execution_count": 4,
     "metadata": {},
     "output_type": "execute_result"
    }
   ],
   "source": [
    "scores + a"
   ]
  },
  {
   "cell_type": "markdown",
   "metadata": {},
   "source": [
    "### 2.二维数组与一维数组运算"
   ]
  },
  {
   "cell_type": "code",
   "execution_count": 5,
   "metadata": {},
   "outputs": [
    {
     "data": {
      "text/plain": [
       "array([[73, 89, 82, 93, 88, 91, 91],\n",
       "       [63, 68, 85, 78, 86, 99, 92],\n",
       "       [93, 97, 93, 90, 92, 97, 93],\n",
       "       [83, 86, 96, 91, 89, 93, 82],\n",
       "       [91, 76, 83, 93, 97, 80, 82]])"
      ]
     },
     "execution_count": 5,
     "metadata": {},
     "output_type": "execute_result"
    }
   ],
   "source": [
    "bonus = np.array([3,4,5,3,6,7,2])\n",
    "scores + bonus"
   ]
  },
  {
   "cell_type": "markdown",
   "metadata": {},
   "source": [
    "### 3.选定元素运算 "
   ]
  },
  {
   "cell_type": "code",
   "execution_count": 6,
   "metadata": {},
   "outputs": [
    {
     "data": {
      "text/plain": [
       "array([64])"
      ]
     },
     "execution_count": 6,
     "metadata": {},
     "output_type": "execute_result"
    }
   ],
   "source": [
    "scores[names == '肖良英', subjects == 'English']"
   ]
  },
  {
   "cell_type": "code",
   "execution_count": 7,
   "metadata": {},
   "outputs": [
    {
     "data": {
      "text/plain": [
       "array([69])"
      ]
     },
     "execution_count": 7,
     "metadata": {},
     "output_type": "execute_result"
    }
   ],
   "source": [
    "scores[names == '肖良英', subjects == 'English'] + 5"
   ]
  },
  {
   "cell_type": "markdown",
   "metadata": {},
   "source": [
    "## 2.2.2 函数和矩阵运算\n",
    "### 1.通用函数"
   ]
  },
  {
   "cell_type": "code",
   "execution_count": 8,
   "metadata": {},
   "outputs": [
    {
     "data": {
      "text/plain": [
       "array([[7., 8., 7., 9., 8., 8., 8.],\n",
       "       [6., 6., 8., 7., 8., 9., 9.],\n",
       "       [9., 9., 8., 8., 8., 9., 9.],\n",
       "       [8., 8., 9., 8., 8., 8., 8.],\n",
       "       [8., 7., 7., 9., 9., 7., 8.]])"
      ]
     },
     "execution_count": 8,
     "metadata": {},
     "output_type": "execute_result"
    }
   ],
   "source": [
    "np.floor(scores / 10)"
   ]
  },
  {
   "cell_type": "code",
   "execution_count": 9,
   "metadata": {},
   "outputs": [
    {
     "data": {
      "text/plain": [
       "array([[67, 82, 74, 87, 79, 81, 86],\n",
       "       [57, 61, 77, 72, 77, 89, 87],\n",
       "       [87, 90, 85, 84, 83, 87, 88],\n",
       "       [77, 79, 88, 85, 80, 83, 77],\n",
       "       [85, 69, 75, 87, 88, 70, 77]])"
      ]
     },
     "execution_count": 9,
     "metadata": {},
     "output_type": "execute_result"
    }
   ],
   "source": [
    "np.subtract(scores, 3)"
   ]
  },
  {
   "cell_type": "markdown",
   "metadata": {},
   "source": [
    "### 2.聚集函数"
   ]
  },
  {
   "cell_type": "code",
   "execution_count": 10,
   "metadata": {},
   "outputs": [
    {
     "data": {
      "text/plain": [
       "array([388, 396, 414, 430, 422, 425, 430])"
      ]
     },
     "execution_count": 10,
     "metadata": {},
     "output_type": "execute_result"
    }
   ],
   "source": [
    "scores.sum(axis = 0)"
   ]
  },
  {
   "cell_type": "code",
   "execution_count": 11,
   "metadata": {},
   "outputs": [
    {
     "data": {
      "text/plain": [
       "array([82.42857143])"
      ]
     },
     "execution_count": 11,
     "metadata": {},
     "output_type": "execute_result"
    }
   ],
   "source": [
    "scores[names == '王微'].mean(axis=-1)"
   ]
  },
  {
   "cell_type": "code",
   "execution_count": 12,
   "metadata": {},
   "outputs": [
    {
     "data": {
      "text/plain": [
       "'方绮雯'"
      ]
     },
     "execution_count": 12,
     "metadata": {},
     "output_type": "execute_result"
    }
   ],
   "source": [
    "names[ scores[:,subjects == 'English'].argmax() ]"
   ]
  },
  {
   "cell_type": "markdown",
   "metadata": {},
   "source": [
    "## 2.2.3 随机数组生成函数"
   ]
  },
  {
   "cell_type": "code",
   "execution_count": 13,
   "metadata": {},
   "outputs": [
    {
     "data": {
      "text/plain": [
       "array([5, 0, 4, 0, 2, 0, 0, 1, 2, 0])"
      ]
     },
     "execution_count": 13,
     "metadata": {},
     "output_type": "execute_result"
    }
   ],
   "source": [
    "np.random.randint(0,6,10)"
   ]
  },
  {
   "cell_type": "code",
   "execution_count": 14,
   "metadata": {},
   "outputs": [
    {
     "data": {
      "text/plain": [
       "array([[1, 0, 0, 0, 1, 1],\n",
       "       [0, 0, 1, 1, 1, 1],\n",
       "       [0, 0, 1, 0, 0, 0],\n",
       "       [0, 1, 0, 0, 1, 1],\n",
       "       [0, 0, 1, 1, 0, 0]])"
      ]
     },
     "execution_count": 14,
     "metadata": {},
     "output_type": "execute_result"
    }
   ],
   "source": [
    "np.random.randint(0, 2, size=(5,6))"
   ]
  },
  {
   "cell_type": "code",
   "execution_count": 15,
   "metadata": {},
   "outputs": [
    {
     "data": {
      "text/plain": [
       "array([[ 0.78498694,  0.33594887, -2.18867714,  0.94077265, -0.51933186],\n",
       "       [-2.2709055 , -0.63402186,  0.11965069, -0.08530738, -0.70153998],\n",
       "       [ 0.42883162, -0.62678654, -1.86273558, -1.1138141 ,  0.8847862 ],\n",
       "       [-1.04638639, -0.21174857,  0.03758055,  0.26988904,  0.49248974]])"
      ]
     },
     "execution_count": 15,
     "metadata": {},
     "output_type": "execute_result"
    }
   ],
   "source": [
    "np.random.normal(0, 1, size=(4,5))"
   ]
  }
 ],
 "metadata": {
  "kernelspec": {
   "display_name": "Python 3",
   "language": "python",
   "name": "python3"
  },
  "language_info": {
   "codemirror_mode": {
    "name": "ipython",
    "version": 3
   },
   "file_extension": ".py",
   "mimetype": "text/x-python",
   "name": "python",
   "nbconvert_exporter": "python",
   "pygments_lexer": "ipython3",
   "version": "3.8.6"
  }
 },
 "nbformat": 4,
 "nbformat_minor": 4
}
