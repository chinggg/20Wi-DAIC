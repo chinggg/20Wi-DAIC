{
 "cells": [
  {
   "cell_type": "markdown",
   "metadata": {},
   "source": [
    "## 2.3 案例:随机游走轨迹模拟"
   ]
  },
  {
   "cell_type": "code",
   "execution_count": 1,
   "metadata": {},
   "outputs": [],
   "source": [
    "import numpy as np\n",
    "import matplotlib.pyplot as plt"
   ]
  },
  {
   "cell_type": "markdown",
   "metadata": {},
   "source": [
    "### 1. 模拟每步游走方向"
   ]
  },
  {
   "cell_type": "code",
   "execution_count": 2,
   "metadata": {},
   "outputs": [
    {
     "name": "stdout",
     "output_type": "stream",
     "text": [
      "[[1 0 0 1 1 1 0 1 0 1]\n",
      " [0 1 0 1 1 1 1 1 1 0]]\n",
      "[[ 1 -1 -1  1  1  1 -1  1 -1  1]\n",
      " [-1  1 -1  1  1  1  1  1  1 -1]]\n"
     ]
    }
   ],
   "source": [
    "steps = 10\n",
    "rndwlk = np.random.randint(0, 2, size = (2, steps))\n",
    "print(rndwlk)\n",
    "rndwlk = np.where(rndwlk > 0, 1 ,-1)\n",
    "print(rndwlk)"
   ]
  },
  {
   "cell_type": "markdown",
   "metadata": {},
   "source": [
    "### 2. 计算每步游走后的位置"
   ]
  },
  {
   "cell_type": "code",
   "execution_count": 3,
   "metadata": {},
   "outputs": [
    {
     "data": {
      "text/plain": [
       "array([[ 1,  0, -1,  0,  1,  2,  1,  2,  1,  2],\n",
       "       [-1,  0, -1,  0,  1,  2,  3,  4,  5,  4]])"
      ]
     },
     "execution_count": 3,
     "metadata": {},
     "output_type": "execute_result"
    }
   ],
   "source": [
    "position = rndwlk.cumsum(axis = 1)\n",
    "position"
   ]
  },
  {
   "cell_type": "markdown",
   "metadata": {},
   "source": [
    "### 3. 计算每步游走后到原点的距离"
   ]
  },
  {
   "cell_type": "code",
   "execution_count": 4,
   "metadata": {},
   "outputs": [
    {
     "name": "stdout",
     "output_type": "stream",
     "text": [
      "[1.41421356 0.         1.41421356 0.         1.41421356 2.82842712\n",
      " 3.16227766 4.47213595 5.09901951 4.47213595]\n",
      "[1.4142 0.     1.4142 0.     1.4142 2.8284 3.1623 4.4721 5.099  4.4721]\n",
      "5.0990195135927845\n",
      "0.0\n",
      "2.42766368956258\n"
     ]
    },
    {
     "data": {
      "text/plain": [
       "5"
      ]
     },
     "execution_count": 4,
     "metadata": {},
     "output_type": "execute_result"
    }
   ],
   "source": [
    "# sqrt求平方根\n",
    "dists = np.sqrt(position[0]**2 + position[1]**2)\n",
    "print(dists)\n",
    "# 只显示4位小数\n",
    "np.set_printoptions(precision = 4)\n",
    "print(dists)\n",
    "# 对数组dist统计物体距离原点的最大值、最小值和平均值\n",
    "print(dists.max())\n",
    "print(dists.min())\n",
    "print(dists.mean())\n",
    "# 统计物体游走过程中离原点大于平均距离的次数\n",
    "(dists > dists.mean()).sum()"
   ]
  },
  {
   "cell_type": "markdown",
   "metadata": {},
   "source": [
    "### 4. 绘图展示游走轨迹"
   ]
  },
  {
   "cell_type": "code",
   "execution_count": 5,
   "metadata": {},
   "outputs": [
    {
     "data": {
      "image/png": "[encoded data removed]",
      "text/plain": [
       "<Figure size 432x288 with 1 Axes>"
      ]
     },
     "metadata": {
      "needs_background": "light"
     },
     "output_type": "display_data"
    }
   ],
   "source": [
    "x=position[0]\n",
    "y=position[1]\n",
    "plt.plot(x, y, c='g', marker='*')\n",
    "plt.scatter(0, 0, c='r', marker='o')\n",
    "plt.text(.1, -.1, 'origin')\n",
    "plt.scatter(x[-1], y[-1], c='r', marker='o')\n",
    "plt.text(x[-1]+.1, y[-1]-.1, 'stop')\n",
    "plt.show()"
   ]
  }
 ],
 "metadata": {
  "kernelspec": {
   "display_name": "Python 3",
   "language": "python",
   "name": "python3"
  },
  "language_info": {
   "codemirror_mode": {
    "name": "ipython",
    "version": 3
   },
   "file_extension": ".py",
   "mimetype": "text/x-python",
   "name": "python",
   "nbconvert_exporter": "python",
   "pygments_lexer": "ipython3",
   "version": "3.8.6"
  }
 },
 "nbformat": 4,
 "nbformat_minor": 4
}
