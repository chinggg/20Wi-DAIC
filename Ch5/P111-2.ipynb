{
 "cells": [
  {
   "cell_type": "code",
   "execution_count": 10,
   "metadata": {},
   "outputs": [
    {
     "data": {
      "text/html": [
       "<div>\n",
       "<style scoped>\n",
       "    .dataframe tbody tr th:only-of-type {\n",
       "        vertical-align: middle;\n",
       "    }\n",
       "\n",
       "    .dataframe tbody tr th {\n",
       "        vertical-align: top;\n",
       "    }\n",
       "\n",
       "    .dataframe thead th {\n",
       "        text-align: right;\n",
       "    }\n",
       "</style>\n",
       "<table border=\"1\" class=\"dataframe\">\n",
       "  <thead>\n",
       "    <tr style=\"text-align: right;\">\n",
       "      <th></th>\n",
       "      <th>户型-房间</th>\n",
       "      <th>户型-厅</th>\n",
       "      <th>户型-厨房</th>\n",
       "      <th>户型-卫生</th>\n",
       "      <th>建筑面积</th>\n",
       "      <th>朝向</th>\n",
       "      <th>装修</th>\n",
       "      <th>电梯</th>\n",
       "      <th>总楼层</th>\n",
       "      <th>所处层数</th>\n",
       "      <th>建筑类型</th>\n",
       "      <th>建筑时间</th>\n",
       "      <th>价格（万）</th>\n",
       "    </tr>\n",
       "    <tr>\n",
       "      <th>序号</th>\n",
       "      <th></th>\n",
       "      <th></th>\n",
       "      <th></th>\n",
       "      <th></th>\n",
       "      <th></th>\n",
       "      <th></th>\n",
       "      <th></th>\n",
       "      <th></th>\n",
       "      <th></th>\n",
       "      <th></th>\n",
       "      <th></th>\n",
       "      <th></th>\n",
       "      <th></th>\n",
       "    </tr>\n",
       "  </thead>\n",
       "  <tbody>\n",
       "    <tr>\n",
       "      <th>1</th>\n",
       "      <td>3</td>\n",
       "      <td>2</td>\n",
       "      <td>1</td>\n",
       "      <td>2</td>\n",
       "      <td>152.32</td>\n",
       "      <td>4</td>\n",
       "      <td>2</td>\n",
       "      <td>1</td>\n",
       "      <td>9</td>\n",
       "      <td>0.33</td>\n",
       "      <td>1</td>\n",
       "      <td>2010</td>\n",
       "      <td>590.0</td>\n",
       "    </tr>\n",
       "    <tr>\n",
       "      <th>2</th>\n",
       "      <td>3</td>\n",
       "      <td>2</td>\n",
       "      <td>0</td>\n",
       "      <td>1</td>\n",
       "      <td>85.87</td>\n",
       "      <td>7</td>\n",
       "      <td>2</td>\n",
       "      <td>1</td>\n",
       "      <td>21</td>\n",
       "      <td>0.66</td>\n",
       "      <td>1</td>\n",
       "      <td>2014</td>\n",
       "      <td>375.0</td>\n",
       "    </tr>\n",
       "    <tr>\n",
       "      <th>3</th>\n",
       "      <td>3</td>\n",
       "      <td>2</td>\n",
       "      <td>1</td>\n",
       "      <td>2</td>\n",
       "      <td>96.19</td>\n",
       "      <td>9</td>\n",
       "      <td>0</td>\n",
       "      <td>0</td>\n",
       "      <td>6</td>\n",
       "      <td>0.33</td>\n",
       "      <td>1</td>\n",
       "      <td>2013</td>\n",
       "      <td>410.0</td>\n",
       "    </tr>\n",
       "    <tr>\n",
       "      <th>4</th>\n",
       "      <td>3</td>\n",
       "      <td>1</td>\n",
       "      <td>1</td>\n",
       "      <td>1</td>\n",
       "      <td>88.48</td>\n",
       "      <td>7</td>\n",
       "      <td>2</td>\n",
       "      <td>1</td>\n",
       "      <td>12</td>\n",
       "      <td>1.00</td>\n",
       "      <td>1</td>\n",
       "      <td>2009</td>\n",
       "      <td>388.0</td>\n",
       "    </tr>\n",
       "    <tr>\n",
       "      <th>5</th>\n",
       "      <td>2</td>\n",
       "      <td>2</td>\n",
       "      <td>1</td>\n",
       "      <td>1</td>\n",
       "      <td>89.88</td>\n",
       "      <td>7</td>\n",
       "      <td>1</td>\n",
       "      <td>1</td>\n",
       "      <td>18</td>\n",
       "      <td>0.33</td>\n",
       "      <td>1</td>\n",
       "      <td>2008</td>\n",
       "      <td>353.0</td>\n",
       "    </tr>\n",
       "  </tbody>\n",
       "</table>\n",
       "</div>"
      ],
      "text/plain": [
       "    户型-房间  户型-厅  户型-厨房  户型-卫生    建筑面积  朝向  装修  电梯  总楼层  所处层数  建筑类型  建筑时间  \\\n",
       "序号                                                                         \n",
       "1       3     2      1      2  152.32   4   2   1    9  0.33     1  2010   \n",
       "2       3     2      0      1   85.87   7   2   1   21  0.66     1  2014   \n",
       "3       3     2      1      2   96.19   9   0   0    6  0.33     1  2013   \n",
       "4       3     1      1      1   88.48   7   2   1   12  1.00     1  2009   \n",
       "5       2     2      1      1   89.88   7   1   1   18  0.33     1  2008   \n",
       "\n",
       "    价格（万）  \n",
       "序号         \n",
       "1   590.0  \n",
       "2   375.0  \n",
       "3   410.0  \n",
       "4   388.0  \n",
       "5   353.0  "
      ]
     },
     "execution_count": 10,
     "metadata": {},
     "output_type": "execute_result"
    }
   ],
   "source": [
    "import pandas as pd\n",
    "import matplotlib.pyplot as plt\n",
    "\n",
    "data = pd.read_excel('housePrice.xlsx', index_col=0, header=0)\n",
    "data.drop(['建筑结构', '小区', '地址', '经度', '纬度'], axis=1, inplace=True)\n",
    "data.head()"
   ]
  },
  {
   "cell_type": "code",
   "execution_count": 52,
   "metadata": {},
   "outputs": [],
   "source": [
    "X = data.iloc[:, [4]].values.astype(float) # 建筑面积\n",
    "Y = data.iloc[:,-1].values.astype(float) # 价格"
   ]
  },
  {
   "cell_type": "code",
   "execution_count": 42,
   "metadata": {},
   "outputs": [],
   "source": [
    "from sklearn.model_selection import train_test_split\n",
    "X_train, X_test, Y_train, Y_test = train_test_split(X, Y, test_size=0.2, random_state=42)"
   ]
  },
  {
   "cell_type": "code",
   "execution_count": 43,
   "metadata": {},
   "outputs": [
    {
     "name": "stdout",
     "output_type": "stream",
     "text": [
      "65.81768760780852 [3.45635946]\n"
     ]
    }
   ],
   "source": [
    "from sklearn.linear_model import LinearRegression\n",
    "linreg = LinearRegression()\n",
    "linreg.fit(X_train, Y_train)\n",
    "print(linreg.intercept_, linreg.coef_)"
   ]
  },
  {
   "cell_type": "code",
   "execution_count": 44,
   "metadata": {},
   "outputs": [
    {
     "name": "stdout",
     "output_type": "stream",
     "text": [
      "[592.29036013 362.6152742  398.2849038  371.63637238 376.47527562\n",
      " 450.06116846 410.27847111 348.30594604 363.44480047 377.37392908\n",
      " 321.58828744 507.71324421 534.36177563 507.71324421 489.84386582\n",
      " 407.02949322 373.19173414 349.93043499 283.0153159  459.84266573\n",
      " 499.27972714 379.62056273 291.3105786  377.78869221 390.47353142\n",
      " 500.93877967 426.69617853 499.27972714 390.75004018 383.80275767\n",
      " 500.38576216 380.34639821 685.71575626 430.35991956 410.17478033\n",
      " 373.19173414 374.29776916 546.80466967 384.07926643 452.86081963\n",
      " 272.1623472  377.47761986 283.56833341 539.51175122 538.57853416\n",
      " 601.17320393 499.27972714 655.12697506 614.51475144 504.08406678\n",
      " 275.61870666 321.41546947 657.65011746 457.18126895 948.08800265\n",
      " 532.66815949 500.93877967 533.98157609 426.69617853 378.5490913\n",
      " 374.29776916 345.92105802 453.10276479 938.68670493 378.5490913\n",
      " 541.20536735 272.23147439 272.1623472  286.47167536 432.19179007\n",
      " 376.26789405 432.60655321 367.00485071 471.52516069 375.9913853\n",
      " 387.22455353 262.83017667 289.75521684 317.95911001 373.4336793\n",
      " 291.276015   351.58948753 378.34170973 300.67731272 722.90618402\n",
      " 530.35239866 291.3105786  357.81093455 410.17478033 494.4062603\n",
      " 455.41852562 530.35239866 354.07806634 491.36466398 363.06460093\n",
      " 545.94057981 468.03423764 518.70446728 493.88780638 518.6007765\n",
      " 386.63697243 369.6316839  272.61167393 338.69726675 272.1623472\n",
      " 484.03718193 461.15608232 329.33053262 656.50951884 376.26789405\n",
      " 449.47358736 374.29776916 377.37392908 499.41798151 476.08755518\n",
      " 557.13918445 762.27411823 541.20536735 456.1789247  391.85607521\n",
      " 552.92242591 715.61326556 430.46361034 441.80046936 286.47167536\n",
      " 350.06868937 558.62541902 272.1623472  298.74175143 349.61936264\n",
      " 272.1623472  580.81524673 690.45096871 597.92422604 552.3694084\n",
      " 522.4027719  455.41852562 659.62024235 300.46993116 551.67813651\n",
      " 511.96456634 260.58354302 283.0153159  371.29073644 335.41372527\n",
      " 529.21180003 271.5402025  292.62399519 430.29079237 410.17478033\n",
      " 378.5490913  245.34099781 272.1623472  588.48836473 545.94057981\n",
      " 528.41683736 287.02469287 286.47167536 388.53797013 287.54314679\n",
      " 276.89755966 372.91522538 552.92242591 533.32486779 491.29553679\n",
      " 652.36188749 271.5402025  272.1623472  410.17478033 384.59772035\n",
      " 347.85661932 518.70446728 632.66063859 363.06460093 507.71324421\n",
      " 616.76138509 363.06460093 386.63697243 331.95736581 362.82265577\n",
      " 507.71324421 272.1623472  587.27863892 406.5456029  378.47996411\n",
      " 314.32993258 463.71378832 542.7952927  376.37158484 560.38816234\n",
      " 551.64357291 489.84386582 603.21245601 565.60726512 376.37158484\n",
      " 271.47107531 280.11197395 287.02469287 351.52036034 272.61167393\n",
      " 363.06460093 372.39677146 373.53737008 280.11197395 260.51441583\n",
      " 608.91544912 345.78280364 583.13100757 367.79981338 374.40145995\n",
      " 461.15608232 407.06405682 292.65855878 271.47107531 304.30649015\n",
      " 351.86599629 283.0153159  390.54265861 347.54554696 367.79981338\n",
      " 314.01886023 271.71302047 410.17478033 272.1623472  286.92100208\n",
      " 291.48339657 291.03406984 330.54025843]\n",
      "[351.86599629 272.23147439 377.37392908 363.06460093 407.02949322\n",
      " 287.02469287 500.93877967 565.60726512 545.94057981 558.62541902\n",
      " 292.65855878 459.84266573 468.03423764 386.63697243 271.71302047\n",
      " 659.62024235 271.5402025  500.38576216 272.1623472  378.47996411\n",
      " 656.50951884 552.92242591 283.0153159  507.71324421 350.06868937\n",
      " 283.0153159  292.62399519 369.6316839  272.1623472  722.90618402\n",
      " 271.47107531 374.29776916 456.1789247  601.17320393 373.19173414\n",
      " 272.1623472  287.54314679 391.85607521 378.34170973 335.41372527\n",
      " 491.36466398 410.17478033 371.29073644 471.52516069 499.41798151\n",
      " 377.37392908]\n"
     ]
    }
   ],
   "source": [
    "from sklearn import metrics\n",
    "Y_pred = linreg.predict(X)\n",
    "Y_test_pred = linreg.predict(X_test)\n",
    "print(Y_pred)\n",
    "print(Y_test_pred)"
   ]
  },
  {
   "cell_type": "code",
   "execution_count": 45,
   "metadata": {},
   "outputs": [
    {
     "name": "stdout",
     "output_type": "stream",
     "text": [
      "模型在全体和在测试集上的均方误差分别为: 4096.84, 4777.29\n"
     ]
    }
   ],
   "source": [
    "err = metrics.mean_squared_error(Y, Y_pred)\n",
    "test_err = metrics.mean_squared_error(Y_test, Y_test_pred)\n",
    "print('模型在全体和在测试集上的均方误差分别为: {:.2f}, {:.2f}'.format(err, test_err))"
   ]
  },
  {
   "cell_type": "code",
   "execution_count": 46,
   "metadata": {},
   "outputs": [
    {
     "name": "stdout",
     "output_type": "stream",
     "text": [
      "决定系数为: 0.72 \n"
     ]
    }
   ],
   "source": [
    "predict_score = linreg.score(X_test, Y_test)\n",
    "print('决定系数为: {:.2f} '.format(predict_score))"
   ]
  },
  {
   "cell_type": "code",
   "execution_count": 48,
   "metadata": {},
   "outputs": [
    {
     "data": {
      "image/png": "[encoded data removed]",
      "text/plain": [
       "<Figure size 432x288 with 1 Axes>"
      ]
     },
     "metadata": {
      "needs_background": "light"
     },
     "output_type": "display_data"
    }
   ],
   "source": [
    "plt.scatter(X, Y, color='blue')\n",
    "plt.plot(X, Y_pred, color='red', linewidth=4)\n",
    "plt.show()"
   ]
  },
  {
   "cell_type": "code",
   "execution_count": 65,
   "metadata": {},
   "outputs": [
    {
     "name": "stdout",
     "output_type": "stream",
     "text": [
      "假设希望购买150平方米的房屋，预测价格为584.27万元\n"
     ]
    }
   ],
   "source": [
    "print(f\"假设希望购买150平方米的房屋，预测价格为{linreg.predict([[150]])[0]:.2f}万元\")"
   ]
  }
 ],
 "metadata": {
  "kernelspec": {
   "display_name": "Python 3",
   "language": "python",
   "name": "python3"
  },
  "language_info": {
   "codemirror_mode": {
    "name": "ipython",
    "version": 3
   },
   "file_extension": ".py",
   "mimetype": "text/x-python",
   "name": "python",
   "nbconvert_exporter": "python",
   "pygments_lexer": "ipython3",
   "version": "3.9.1"
  }
 },
 "nbformat": 4,
 "nbformat_minor": 4
}
